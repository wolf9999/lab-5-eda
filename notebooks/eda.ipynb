{
 "cells": [
  {
   "cell_type": "code",
   "execution_count": null,
   "id": "bfd76ab3",
   "metadata": {},
   "outputs": [],
   "source": [
    "# Lab 5 | EDA & Visualisation"
   ]
  },
  {
   "cell_type": "code",
   "execution_count": 8,
   "id": "a6c00783",
   "metadata": {},
   "outputs": [
    {
     "data": {
      "text/html": [
       "<div>\n",
       "<style scoped>\n",
       "    .dataframe tbody tr th:only-of-type {\n",
       "        vertical-align: middle;\n",
       "    }\n",
       "\n",
       "    .dataframe tbody tr th {\n",
       "        vertical-align: top;\n",
       "    }\n",
       "\n",
       "    .dataframe thead th {\n",
       "        text-align: right;\n",
       "    }\n",
       "</style>\n",
       "<table border=\"1\" class=\"dataframe\">\n",
       "  <thead>\n",
       "    <tr style=\"text-align: right;\">\n",
       "      <th></th>\n",
       "      <th>student_id</th>\n",
       "      <th>age</th>\n",
       "      <th>gpa</th>\n",
       "      <th>gender</th>\n",
       "      <th>major</th>\n",
       "      <th>year</th>\n",
       "    </tr>\n",
       "  </thead>\n",
       "  <tbody>\n",
       "    <tr>\n",
       "      <th>0</th>\n",
       "      <td>1</td>\n",
       "      <td>14</td>\n",
       "      <td>NaN</td>\n",
       "      <td>F</td>\n",
       "      <td>Economics</td>\n",
       "      <td>freshman</td>\n",
       "    </tr>\n",
       "    <tr>\n",
       "      <th>1</th>\n",
       "      <td>2</td>\n",
       "      <td>17</td>\n",
       "      <td>2.92</td>\n",
       "      <td>M</td>\n",
       "      <td>History</td>\n",
       "      <td>senior</td>\n",
       "    </tr>\n",
       "    <tr>\n",
       "      <th>2</th>\n",
       "      <td>3</td>\n",
       "      <td>17</td>\n",
       "      <td>2.97</td>\n",
       "      <td>F</td>\n",
       "      <td>Physics</td>\n",
       "      <td>senior</td>\n",
       "    </tr>\n",
       "    <tr>\n",
       "      <th>3</th>\n",
       "      <td>4</td>\n",
       "      <td>16</td>\n",
       "      <td>2.76</td>\n",
       "      <td>F</td>\n",
       "      <td>Physics</td>\n",
       "      <td>junior</td>\n",
       "    </tr>\n",
       "    <tr>\n",
       "      <th>4</th>\n",
       "      <td>5</td>\n",
       "      <td>16</td>\n",
       "      <td>2.24</td>\n",
       "      <td>M</td>\n",
       "      <td>Chemistry</td>\n",
       "      <td>junior</td>\n",
       "    </tr>\n",
       "  </tbody>\n",
       "</table>\n",
       "</div>"
      ],
      "text/plain": [
       "   student_id  age   gpa gender      major      year\n",
       "0           1   14   NaN      F  Economics  freshman\n",
       "1           2   17  2.92      M    History    senior\n",
       "2           3   17  2.97      F    Physics    senior\n",
       "3           4   16  2.76      F    Physics    junior\n",
       "4           5   16  2.24      M  Chemistry    junior"
      ]
     },
     "execution_count": 8,
     "metadata": {},
     "output_type": "execute_result"
    }
   ],
   "source": [
    "#Task A\n",
    "import pandas as pd\n",
    "\n",
    "df = pd.read_csv(\"../students.csv\")\n",
    "df.head()"
   ]
  },
  {
   "cell_type": "code",
   "execution_count": null,
   "id": "2f890db1",
   "metadata": {},
   "outputs": [
    {
     "name": "stdout",
     "output_type": "stream",
     "text": [
      "<class 'pandas.core.frame.DataFrame'>\n",
      "RangeIndex: 100 entries, 0 to 99\n",
      "Data columns (total 6 columns):\n",
      " #   Column      Non-Null Count  Dtype  \n",
      "---  ------      --------------  -----  \n",
      " 0   student_id  100 non-null    int64  \n",
      " 1   age         100 non-null    int64  \n",
      " 2   gpa         90 non-null     float64\n",
      " 3   gender      100 non-null    object \n",
      " 4   major       95 non-null     object \n",
      " 5   year        100 non-null    object \n",
      "dtypes: float64(1), int64(2), object(3)\n",
      "memory usage: 4.8+ KB\n"
     ]
    },
    {
     "data": {
      "text/plain": [
       "student_id     0\n",
       "age            0\n",
       "gpa           10\n",
       "gender         0\n",
       "major          5\n",
       "year           0\n",
       "dtype: int64"
      ]
     },
     "execution_count": 9,
     "metadata": {},
     "output_type": "execute_result"
    }
   ],
   "source": [
    "#Task B\n",
    "df.info()\n",
    "df.isna().sum()"
   ]
  },
  {
   "cell_type": "markdown",
   "id": "f7e4acd1",
   "metadata": {},
   "source": [
    "#### Which column has the most missing values?\n",
    "GPA"
   ]
  },
  {
   "cell_type": "code",
   "execution_count": 10,
   "id": "0f6af189",
   "metadata": {},
   "outputs": [
    {
     "data": {
      "text/html": [
       "<div>\n",
       "<style scoped>\n",
       "    .dataframe tbody tr th:only-of-type {\n",
       "        vertical-align: middle;\n",
       "    }\n",
       "\n",
       "    .dataframe tbody tr th {\n",
       "        vertical-align: top;\n",
       "    }\n",
       "\n",
       "    .dataframe thead th {\n",
       "        text-align: right;\n",
       "    }\n",
       "</style>\n",
       "<table border=\"1\" class=\"dataframe\">\n",
       "  <thead>\n",
       "    <tr style=\"text-align: right;\">\n",
       "      <th></th>\n",
       "      <th>age</th>\n",
       "      <th>gpa</th>\n",
       "    </tr>\n",
       "  </thead>\n",
       "  <tbody>\n",
       "    <tr>\n",
       "      <th>count</th>\n",
       "      <td>100.000000</td>\n",
       "      <td>90.000000</td>\n",
       "    </tr>\n",
       "    <tr>\n",
       "      <th>mean</th>\n",
       "      <td>16.130000</td>\n",
       "      <td>2.624667</td>\n",
       "    </tr>\n",
       "    <tr>\n",
       "      <th>median</th>\n",
       "      <td>16.000000</td>\n",
       "      <td>2.665000</td>\n",
       "    </tr>\n",
       "    <tr>\n",
       "      <th>std</th>\n",
       "      <td>1.375507</td>\n",
       "      <td>0.476898</td>\n",
       "    </tr>\n",
       "    <tr>\n",
       "      <th>var</th>\n",
       "      <td>1.892020</td>\n",
       "      <td>0.227432</td>\n",
       "    </tr>\n",
       "    <tr>\n",
       "      <th>min</th>\n",
       "      <td>14.000000</td>\n",
       "      <td>1.630000</td>\n",
       "    </tr>\n",
       "    <tr>\n",
       "      <th>max</th>\n",
       "      <td>18.000000</td>\n",
       "      <td>3.930000</td>\n",
       "    </tr>\n",
       "  </tbody>\n",
       "</table>\n",
       "</div>"
      ],
      "text/plain": [
       "               age        gpa\n",
       "count   100.000000  90.000000\n",
       "mean     16.130000   2.624667\n",
       "median   16.000000   2.665000\n",
       "std       1.375507   0.476898\n",
       "var       1.892020   0.227432\n",
       "min      14.000000   1.630000\n",
       "max      18.000000   3.930000"
      ]
     },
     "execution_count": 10,
     "metadata": {},
     "output_type": "execute_result"
    }
   ],
   "source": [
    "#Task C\n",
    "summary = df[[\"age\", \"gpa\"]].agg([\"count\", \"mean\", \"median\", \"std\", \"var\", \"min\", \"max\"])\n",
    "summary"
   ]
  },
  {
   "cell_type": "code",
   "execution_count": 11,
   "id": "3e34168f",
   "metadata": {},
   "outputs": [
    {
     "data": {
      "text/plain": [
       "<Axes: xlabel='gpa', ylabel='Count'>"
      ]
     },
     "execution_count": 11,
     "metadata": {},
     "output_type": "execute_result"
    },
    {
     "data": {
      "image/png": "[encoded data removed]",
      "text/plain": [
       "<Figure size 640x480 with 1 Axes>"
      ]
     },
     "metadata": {},
     "output_type": "display_data"
    }
   ],
   "source": [
    "# Task D\n",
    "df[\"age\"].hist(bins=range(14, 19), align=\"left\", rwidth=0.8)\n",
    "\n",
    "import seaborn as sns\n",
    "sns.histplot(df[\"gpa\"], kde=True)"
   ]
  },
  {
   "cell_type": "markdown",
   "id": "b793ac8e",
   "metadata": {},
   "source": [
    "### One interesting feature of each distribution\n",
    "The distribution on the left has less variability and is narrower. The distribution on the left is left skewed. "
   ]
  },
  {
   "cell_type": "code",
   "execution_count": 12,
   "id": "ebfacf07",
   "metadata": {},
   "outputs": [
    {
     "data": {
      "text/plain": [
       "np.float64(0.8786075344584666)"
      ]
     },
     "execution_count": 12,
     "metadata": {},
     "output_type": "execute_result"
    },
    {
     "data": {
      "image/png": "[encoded data removed]",
      "text/plain": [
       "<Figure size 640x480 with 1 Axes>"
      ]
     },
     "metadata": {},
     "output_type": "display_data"
    }
   ],
   "source": [
    "#Task E\n",
    "sns.scatterplot(x=\"age\", y=\"gpa\", data=df)\n",
    "df[\"age\"].corr(df[\"gpa\"])"
   ]
  },
  {
   "cell_type": "markdown",
   "id": "6e17c7d6",
   "metadata": {},
   "source": [
    "### Does GPA trend up or down with Age?\n",
    "\n",
    "GPA trends up as age increases!"
   ]
  },
  {
   "cell_type": "code",
   "execution_count": 13,
   "id": "e47eb234",
   "metadata": {},
   "outputs": [
    {
     "name": "stderr",
     "output_type": "stream",
     "text": [
      "/var/folders/v3/fyfjjzg92zg2q8f8q85kh2mw0000gp/T/ipykernel_85960/3738199953.py:4: FutureWarning: A value is trying to be set on a copy of a DataFrame or Series through chained assignment using an inplace method.\n",
      "The behavior will change in pandas 3.0. This inplace method will never work because the intermediate object on which we are setting values always behaves as a copy.\n",
      "\n",
      "For example, when doing 'df[col].method(value, inplace=True)', try using 'df.method({col: value}, inplace=True)' or df[col] = df[col].method(value) instead, to perform the operation inplace on the original object.\n",
      "\n",
      "\n",
      "  df[\"major\"].replace(\"\", pd.NA, inplace=True)\n"
     ]
    }
   ],
   "source": [
    "#Task F\n",
    "df[\"major\"] = df[\"major\"].str.lower()\n",
    "df[\"major\"] = df[\"major\"].str.strip()\n",
    "df[\"major\"].replace(\"\", pd.NA, inplace=True)\n",
    "df.dropna(subset=[\"major\"], inplace=True)\n"
   ]
  },
  {
   "cell_type": "code",
   "execution_count": 15,
   "id": "cdfec5c3",
   "metadata": {},
   "outputs": [],
   "source": [
    "#Task G\n",
    "df.to_csv(\"../students_clean.csv\", index=False)"
   ]
  },
  {
   "cell_type": "markdown",
   "id": "d488d5d2",
   "metadata": {},
   "source": [
    "### Conclusion\n",
    "\n",
    "This is my conclusion. I found that I can use the histplot and scatterplot function to clearly draw a histogram. Additionally, I learned about .info and .isna. I also faced a FutureWarning, which I am still trying to figure out how to fix."
   ]
  }
 ],
 "metadata": {
  "kernelspec": {
   "display_name": "base",
   "language": "python",
   "name": "python3"
  },
  "language_info": {
   "codemirror_mode": {
    "name": "ipython",
    "version": 3
   },
   "file_extension": ".py",
   "mimetype": "text/x-python",
   "name": "python",
   "nbconvert_exporter": "python",
   "pygments_lexer": "ipython3",
   "version": "3.13.5"
  }
 },
 "nbformat": 4,
 "nbformat_minor": 5
}
